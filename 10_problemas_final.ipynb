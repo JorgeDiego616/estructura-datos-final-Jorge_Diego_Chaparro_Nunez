{
  "nbformat": 4,
  "nbformat_minor": 0,
  "metadata": {
    "colab": {
      "provenance": [],
      "authorship_tag": "ABX9TyPhhxQ7EgpwPvJ2Nf4tVSd2",
      "include_colab_link": true
    },
    "kernelspec": {
      "name": "python3",
      "display_name": "Python 3"
    },
    "language_info": {
      "name": "python"
    }
  },
  "cells": [
    {
      "cell_type": "markdown",
      "metadata": {
        "id": "view-in-github",
        "colab_type": "text"
      },
      "source": [
        "<a href=\"https://colab.research.google.com/github/JorgeDiego616/estructura-datos-final-Jorge_Diego_Chaparro_Nunez/blob/main/10_problemas_final.ipynb\" target=\"_parent\"><img src=\"https://colab.research.google.com/assets/colab-badge.svg\" alt=\"Open In Colab\"/></a>"
      ]
    },
    {
      "cell_type": "markdown",
      "source": [
        "# 10 problemas"
      ],
      "metadata": {
        "id": "eUfHicO-CLT9"
      }
    },
    {
      "cell_type": "markdown",
      "source": [
        "## Problema 1\n",
        "\n",
        "Se usara leetcode\n",
        "\n",
        "Convertir numeros romanos a enteros"
      ],
      "metadata": {
        "id": "fDLDPcMwCR_A"
      }
    },
    {
      "cell_type": "code",
      "source": [
        "def conversion(numRomanos):\n",
        "    numero = 0\n",
        "    prev_value = 0\n",
        "\n",
        "    for letra in reversed(numRomanos):  # Lee el string al reverso\n",
        "        if letra == 'I':\n",
        "            valor = 1\n",
        "        elif letra == 'V':\n",
        "            valor = 5\n",
        "        elif letra == 'X':\n",
        "            valor = 10\n",
        "        elif letra == 'L':\n",
        "            valor = 50\n",
        "        elif letra == 'C':\n",
        "            valor = 100\n",
        "        elif letra == 'D':\n",
        "            valor = 500\n",
        "        elif letra == 'M':\n",
        "            valor = 100\n",
        "        ## Si el valor obtenido es menor al reciente se le resta el numero actual comparado al total\n",
        "        if valor < prev_value:\n",
        "            numero -= valor\n",
        "        ## Si el valor obtenido es mayor al reciente se le suma al total\n",
        "        else:\n",
        "            numero += valor\n",
        "        prev_value = valor\n",
        "\n",
        "    return numero\n",
        "\n",
        "\n",
        "s = \"MCMXCIV\"\n",
        "print(f\"{s} = {conversion(s)}\")"
      ],
      "metadata": {
        "colab": {
          "base_uri": "https://localhost:8080/"
        },
        "id": "XrjCuUU3S1TE",
        "outputId": "a239861a-b618-4ce7-b966-9e0e9bd4c39a"
      },
      "execution_count": 15,
      "outputs": [
        {
          "output_type": "stream",
          "name": "stdout",
          "text": [
            "MCMXCIV = 394\n"
          ]
        }
      ]
    },
    {
      "cell_type": "code",
      "execution_count": 13,
      "metadata": {
        "colab": {
          "base_uri": "https://localhost:8080/"
        },
        "id": "JErzGAaYB6j6",
        "outputId": "f017d291-31d7-4833-eef1-1e2f6fd7bb5c"
      },
      "outputs": [
        {
          "output_type": "stream",
          "name": "stdout",
          "text": [
            "MCMXCIV = 1994\n"
          ]
        }
      ],
      "source": [
        "def conversion(numRomanos):\n",
        "    valores = {'I': 1, 'V': 5, 'X': 10, 'L': 50, 'C': 100, 'D': 500, 'M': 1000}\n",
        "    numero = 0\n",
        "    prev_value = 0\n",
        "\n",
        "    for letra in reversed(numRomanos):  # Lee el string al reverso\n",
        "        valor = valores[letra]\n",
        "        ## Si el valor obtenido es menor al reciente se le resta el numero actual comparado al total\n",
        "        if valor < prev_value:\n",
        "            numero -= valor\n",
        "        ## Si el valor obtenido es mayor al reciente se le suma al total\n",
        "        else:\n",
        "            numero += valor\n",
        "        prev_value = valor\n",
        "\n",
        "    return numero\n",
        "\n",
        "\n",
        "s = \"MCMXCIV\"\n",
        "print(f\"{s} = {conversion(s)}\")"
      ]
    },
    {
      "cell_type": "markdown",
      "source": [
        "## Problema 2\n",
        "\n",
        "Longitud de la ultima palabra de una frase"
      ],
      "metadata": {
        "id": "Z-19qoJd0XfN"
      }
    },
    {
      "cell_type": "code",
      "source": [
        "def lastWordlenght(frase):\n",
        "  frase = frase.strip()\n",
        "  lastWord = \"\"\n",
        "  finalMessage = \"\"\n",
        "\n",
        "  if frase == \"\":\n",
        "      finalMessage = \"La frase esta vacia\"\n",
        "      return finalMessage\n",
        "\n",
        "  for letra in reversed(frase):\n",
        "    if(letra != \" \"):\n",
        "      lastWord = letra + lastWord\n",
        "    else:\n",
        "      finalMessage = f\"La última palabra {lastWord} tiene una logitud de {len(lastWord)}\"\n",
        "      break\n",
        "\n",
        "  return finalMessage\n",
        "\n",
        "frase = \"\"\n",
        "##print(frase.strip())\n",
        "print(lastWordlenght(frase))"
      ],
      "metadata": {
        "colab": {
          "base_uri": "https://localhost:8080/"
        },
        "id": "ipS7cOCE3CYT",
        "outputId": "b441fa7f-f579-4408-8e87-3394f48f664a"
      },
      "execution_count": 56,
      "outputs": [
        {
          "output_type": "stream",
          "name": "stdout",
          "text": [
            "La frase esta vacia\n"
          ]
        }
      ]
    },
    {
      "cell_type": "code",
      "source": [
        "def lastWordLength(frase):\n",
        "    frase = frase.rstrip()  # Quitamos espacios finales solo si los hay\n",
        "    if not frase:  # Si la frase está vacía después de eliminar espacios, devolver mensaje adecuado\n",
        "        return \"La frase esta vacia\"\n",
        "\n",
        "    lastWord = frase.split()[-1]  # Obtiene la última palabra dividiendo la cadena\n",
        "    return f\"La última palabra {lastWord} tiene una longitud de {len(lastWord)}\"\n",
        "\n",
        "frase = \"Roy el salvaje\"\n",
        "print(lastWordLength(frase))"
      ],
      "metadata": {
        "colab": {
          "base_uri": "https://localhost:8080/"
        },
        "id": "JFFwQeXH8kMR",
        "outputId": "9bc92e01-7404-407d-8354-2b81a45e6d17"
      },
      "execution_count": 34,
      "outputs": [
        {
          "output_type": "stream",
          "name": "stdout",
          "text": [
            "La última palabra salvaje tiene una longitud de 7\n"
          ]
        }
      ]
    },
    {
      "cell_type": "markdown",
      "source": [
        "## Problema 3\n",
        "\n",
        "Plus one, de una lista de numeros que los junte y les sume un uno al total"
      ],
      "metadata": {
        "id": "SJOD7oi588Ty"
      }
    },
    {
      "cell_type": "code",
      "source": [
        "def plusOne(lista):\n",
        "  numeroB = \"\"\n",
        "  numeroFinal = 0\n",
        "  for num in reversed(lista):\n",
        "    numeroB = str(num) + numeroB\n",
        "    print(numeroB)\n",
        "  numeroFinal = int(numeroB) + 1\n",
        "  lista = []\n",
        "  for numero in str(numeroFinal):\n",
        "    lista.append(int(numero))\n",
        "  return lista\n",
        "\n",
        "lista = [1, 2, 9]\n",
        "print(f\"El numero mas uno es {plusOne(lista)}\")"
      ],
      "metadata": {
        "colab": {
          "base_uri": "https://localhost:8080/"
        },
        "id": "vGwLsEXKHU2q",
        "outputId": "1563c5c0-233f-4077-970d-2855669f6589"
      },
      "execution_count": 15,
      "outputs": [
        {
          "output_type": "stream",
          "name": "stdout",
          "text": [
            "9\n",
            "29\n",
            "129\n",
            "El numero mas uno es [1, 3, 0]\n"
          ]
        }
      ]
    },
    {
      "cell_type": "code",
      "source": [
        "def plusOne(lista):\n",
        "    ## El map(str, lista) los separa en strings: \"1\", \"2\", \"9\"\n",
        "    ## El \"\".join Lo junta: \"129\"\n",
        "    numeroFinal = int(\"\".join(map(str, lista))) + 1  # Convertimos la lista a número y sumamos 1\n",
        "    ## Lo pone en string y luego lo separa para la lista\n",
        "    return list(map(int, str(numeroFinal)))  # Convertimos el número resultante de nuevo a lista\n",
        "\n",
        "lista = [1, 2, 9]\n",
        "print(f\"El número más uno es {plusOne(lista)}\")"
      ],
      "metadata": {
        "colab": {
          "base_uri": "https://localhost:8080/"
        },
        "id": "Yl4zWb9oLUO9",
        "outputId": "7f6a4b64-0199-441e-967b-377af90e752b"
      },
      "execution_count": 16,
      "outputs": [
        {
          "output_type": "stream",
          "name": "stdout",
          "text": [
            "El número más uno es [1, 3, 0]\n"
          ]
        }
      ]
    },
    {
      "cell_type": "markdown",
      "source": [
        "## Problema 4\n",
        "\n",
        "Add binary, Sume dos codigos binarios."
      ],
      "metadata": {
        "id": "qIl5vysgWSYs"
      }
    },
    {
      "cell_type": "code",
      "source": [
        "def addBinary(a,b):\n",
        "  sum_A = 0\n",
        "  sum_B = 0\n",
        "  zero = 0\n",
        "  zero2 = 0\n",
        "\n",
        "  ## Para A\n",
        "  for letra in reversed(a):\n",
        "    if letra == \"1\" and sum_A == 0 and zero == 0:\n",
        "      sum_A = sum_A + 1\n",
        "    elif letra == \"1\":\n",
        "      sum_A = sum_A + (zero * 2)\n",
        "\n",
        "    if (zero == 0):\n",
        "      zero = 1\n",
        "    else:\n",
        "      zero = zero * 2\n",
        "  ##return sum_A\n",
        "\n",
        "  ## Para B\n",
        "  for letra in reversed(b):\n",
        "    if letra == \"1\" and sum_B == 0:\n",
        "      sum_B = sum_B + 1\n",
        "    elif letra == \"1\":\n",
        "      sum_B = sum_B + (zero2 * 2)\n",
        "\n",
        "    if (zero2 == 0):\n",
        "      zero2 = 1\n",
        "    else:\n",
        "      zero2 = zero2 * 2\n",
        "\n",
        "  ## El bin() lo convierte a binario con un ob al principio: \"ob10100\" para quitar el ob\n",
        "  ## se pone el 2: para mostrar el contenido a partir del 2 en adelante\n",
        "  return bin(sum_A + sum_B)[2:]\n",
        "\n",
        "a = \"11010\" # 26\n",
        "b = \"1001\" # 9\n",
        "# 35 = 100011\n",
        "print(f\"{a} + {b} = {addBinary(a,b)}\")"
      ],
      "metadata": {
        "colab": {
          "base_uri": "https://localhost:8080/"
        },
        "id": "99WtSUlLX-NI",
        "outputId": "fc37e835-897a-41f4-a1e5-cb52347424cd"
      },
      "execution_count": 18,
      "outputs": [
        {
          "output_type": "stream",
          "name": "stdout",
          "text": [
            "11010 + 1001 = 100011\n"
          ]
        }
      ]
    },
    {
      "cell_type": "code",
      "source": [
        "def addBinary(a,b):\n",
        "  return bin(int(a,2) + int(b,2))[2:]\n",
        "\n",
        "a = \"1011\" # 11\n",
        "b = \"1001\" # 9\n",
        "# 20 = 10100\n",
        "print(f\"{a} + {b} = {addBinary(a,b)}\")\n",
        "\n",
        "\n",
        "def addBinary(a,b):\n",
        "  ## El int(a,2) Es para convertir el string en una cadena binaria con base numerica 2\n",
        "  ## Se puede usar como base el 2, 8, 10, 16 y 36\n",
        "  numeroA = int(a,2)\n",
        "  numeroB = int(b,2)\n",
        "  numeroFinal = numeroA + numeroB\n",
        "  return bin(numeroFinal)[2:]\n",
        "\n",
        "a = \"1011\" # 11\n",
        "b = \"1001\" # 9\n",
        "#20 = 10100\n",
        "print(f\"{a} + {b} = {addBinary(a,b)}\")"
      ],
      "metadata": {
        "colab": {
          "base_uri": "https://localhost:8080/"
        },
        "id": "3QLD6FjcXFhO",
        "outputId": "3887c4f0-fa24-436e-82e9-558915614bf8"
      },
      "execution_count": 13,
      "outputs": [
        {
          "output_type": "stream",
          "name": "stdout",
          "text": [
            "1011 + 1001 = 10100\n",
            "1011 + 1001 = 10100\n"
          ]
        }
      ]
    },
    {
      "cell_type": "markdown",
      "source": [
        "## Problema 5\n",
        "\n",
        "Climbing stairs: Solo puede dar 1 paso o 2 pasos para llegar a la cima"
      ],
      "metadata": {
        "id": "07Oxk81togH8"
      }
    },
    {
      "cell_type": "code",
      "source": [
        "def climbingStairs(top):\n",
        "  oneStep = 0\n",
        "  twoStep = 0\n",
        "\n",
        "  for step in range(0, top+1, 2):\n",
        "    print(step)\n",
        "    if step > 0:\n",
        "      twoStep += 1\n",
        "  if ((twoStep * 2) < top):\n",
        "    oneStep = top - (twoStep * 2)\n",
        "  return f\"{twoStep} pasos de 2 y {oneStep} pasos de 1 para llegar a {top}\"\n",
        "\n",
        "top = 5\n",
        "print(climbingStairs(top))"
      ],
      "metadata": {
        "colab": {
          "base_uri": "https://localhost:8080/"
        },
        "id": "LD_BVQerqh9x",
        "outputId": "4a884e04-f1cc-4ea0-f054-e7102e852904"
      },
      "execution_count": 37,
      "outputs": [
        {
          "output_type": "stream",
          "name": "stdout",
          "text": [
            "0\n",
            "2\n",
            "4\n",
            "2 pases de 2 y 1 pases de 1 para llegar a 5\n"
          ]
        }
      ]
    },
    {
      "cell_type": "markdown",
      "source": [
        "## Problema 6\n",
        "\n",
        "Remove duplicates from sorted list"
      ],
      "metadata": {
        "id": "MJr0KDbt3VmA"
      }
    },
    {
      "cell_type": "code",
      "source": [
        "def removeDuplicate(lista):\n",
        "  listaFinal = []\n",
        "  for num in lista:\n",
        "    if num not in listaFinal:\n",
        "      listaFinal.append(num)\n",
        "  return listaFinal\n",
        "\n",
        "lista = [1, 1, 2, 3, 3]\n",
        "print(removeDuplicate(lista))"
      ],
      "metadata": {
        "colab": {
          "base_uri": "https://localhost:8080/"
        },
        "id": "gKgjlovC33ov",
        "outputId": "93bd8fae-d250-4f31-ce31-f66079c32ada"
      },
      "execution_count": 2,
      "outputs": [
        {
          "output_type": "stream",
          "name": "stdout",
          "text": [
            "[1, 2, 3]\n"
          ]
        }
      ]
    },
    {
      "cell_type": "code",
      "source": [
        "def removeDuplicate(lista):\n",
        "    ## Al combertirlo en un conjunto con el <set> se eliminan los duplicados\n",
        "    return list(set(lista))  # Convertimos la lista a un conjunto y de nuevo a lista\n",
        "\n",
        "lista = [1, 1, 2, 3, 3]\n",
        "print(removeDuplicate(lista))"
      ],
      "metadata": {
        "colab": {
          "base_uri": "https://localhost:8080/"
        },
        "id": "vJBoNVHT4-Cf",
        "outputId": "2b69b56e-1695-486f-b0aa-252b9da81a2c"
      },
      "execution_count": 3,
      "outputs": [
        {
          "output_type": "stream",
          "name": "stdout",
          "text": [
            "[1, 2, 3]\n"
          ]
        }
      ]
    },
    {
      "cell_type": "markdown",
      "source": [
        "## Problema 7\n",
        "\n",
        "Merge sorted array"
      ],
      "metadata": {
        "id": "qrZfJJUv5Q_9"
      }
    },
    {
      "cell_type": "code",
      "source": [
        "def mergeSortedArray(lista1, lista2,m,n):\n",
        "  ## Juntamos las listas con sus elementos validos\n",
        "  listtota = lista1[:m] + lista2[:n]\n",
        "\n",
        "  ## Se ordena la lista\n",
        "  return sorted(listtota)\n",
        "\n",
        "lista1 = [1, 2, 3, 9, 0, 0]\n",
        "m = 4\n",
        "lista2 = [2, 5, 6]\n",
        "n = 3\n",
        "print(mergeSortedArray(lista1, lista2, m, n))"
      ],
      "metadata": {
        "colab": {
          "base_uri": "https://localhost:8080/"
        },
        "id": "zyLG9P1F6B3s",
        "outputId": "09725a4b-43e8-462c-ee8a-6241b04f5078"
      },
      "execution_count": 36,
      "outputs": [
        {
          "output_type": "stream",
          "name": "stdout",
          "text": [
            "[1, 2, 2, 3, 5, 6, 9]\n"
          ]
        }
      ]
    },
    {
      "cell_type": "code",
      "source": [
        "def mergeSortedArray(lista1, lista2, m, n):\n",
        "    # Tomamos solo los elementos válidos de lista1 y lista2\n",
        "    lista1 = lista1[:m]\n",
        "    lista2 = lista2[:n]\n",
        "    # Fusionamos ambas listas y las ordenamos\n",
        "    return sorted(lista1 + lista2)\n",
        "\n",
        "# Datos de entrada\n",
        "lista1 = [1, 2, 3, 0, 0, 0]\n",
        "m = 3\n",
        "lista2 = [2, 5, 6]\n",
        "n = 3\n",
        "\n",
        "print(mergeSortedArray(lista1, lista2, m, n))"
      ],
      "metadata": {
        "colab": {
          "base_uri": "https://localhost:8080/"
        },
        "id": "eNoqOjrAl9tL",
        "outputId": "e66f2690-bc1d-4cf7-e209-7b64f9209440"
      },
      "execution_count": 34,
      "outputs": [
        {
          "output_type": "stream",
          "name": "stdout",
          "text": [
            "[1, 2, 2, 3, 5, 6]\n"
          ]
        }
      ]
    },
    {
      "cell_type": "markdown",
      "source": [
        "## Problema 8\n",
        "\n",
        "Same tree, verifica si 2 arboles son identicos"
      ],
      "metadata": {
        "id": "SztC5_c-9vhV"
      }
    },
    {
      "cell_type": "code",
      "source": [
        "def sameTree(treeOne, treeTwo):\n",
        "  ## Sacamos la longitud de los elementos de todos los arboles\n",
        "  lenTreeOne = len(treeOne)\n",
        "  lenTreeTwo = len(treeTwo)\n",
        "  ## Si no son iguales las longitudes no son iguales\n",
        "  if lenTreeOne != lenTreeTwo:\n",
        "    return False\n",
        "  else:\n",
        "    ## Dividimos el primer arbol a la mitad\n",
        "    for num in range(lenTreeOne // 2):\n",
        "      #print(num)\n",
        "      print(treeOne[num])\n",
        "      #print(treeTwo[num])\n",
        "      if treeOne[num] != treeTwo[num]:\n",
        "        return False\n",
        "    ## Empieza en el ultimo numero del arbol y le quitamos uno mas a la mitad para que no se detenga en la mitad y compare hasta la mitad\n",
        "    for num in range(lenTreeOne-1, (lenTreeOne // 2), -1):\n",
        "      print(treeOne[num])\n",
        "      if treeOne[num] != treeTwo[num]:\n",
        "        return False\n",
        "    return True\n",
        "\n",
        "  #if treeOne == treeTwo:\n",
        "    #return True\n",
        "  #else:\n",
        "    #return False\n",
        "\n",
        "treeOne = [3, 4, 6, 8, 3, 9, 2, 9]\n",
        "treeTwo = [3, 4, 6, 8, 3, 9, 2, 9]\n",
        "print(sameTree(treeOne, treeTwo))"
      ],
      "metadata": {
        "colab": {
          "base_uri": "https://localhost:8080/"
        },
        "id": "CuM8TbSU-DQd",
        "outputId": "aa3f1728-5ae2-4ec1-e4b8-90a4ef8d679a"
      },
      "execution_count": 61,
      "outputs": [
        {
          "output_type": "stream",
          "name": "stdout",
          "text": [
            "3\n",
            "4\n",
            "6\n",
            "8\n",
            "9\n",
            "2\n",
            "9\n",
            "True\n"
          ]
        }
      ]
    },
    {
      "cell_type": "code",
      "source": [
        "def sameTree(treeOne, treeTwo):\n",
        "    if len(treeOne) != len(treeTwo):\n",
        "        return False  # Si los tamaños son diferentes, no son iguales\n",
        "\n",
        "    mitad = len(treeOne) // 2  # Calculamos la mitad\n",
        "\n",
        "    # Comparar ambas mitades al mismo tiempo\n",
        "    for i in range(mitad):\n",
        "      print(treeOne[i])\n",
        "      if treeOne[i] != treeTwo[i] or treeOne[-(i + 1)] != treeTwo[-(i + 1)]:\n",
        "          return False  # Retorna False si hay alguna diferencia\n",
        "\n",
        "    return True  # Si todo coincide, retorna True\n",
        "\n",
        "# Ejemplo de uso\n",
        "treeOne = [3, 4, 6, 8, 3, 9, 2, 9]\n",
        "treeTwo = [3, 4, 6, 8, 3, 9, 2, 9]\n",
        "\n",
        "print(sameTree(treeOne, treeTwo))  # Debería devolver False"
      ],
      "metadata": {
        "colab": {
          "base_uri": "https://localhost:8080/"
        },
        "id": "QKi95NI4GFDb",
        "outputId": "a33f9c87-bf92-43e9-f541-5b44bae1d499"
      },
      "execution_count": 60,
      "outputs": [
        {
          "output_type": "stream",
          "name": "stdout",
          "text": [
            "3\n",
            "4\n",
            "6\n",
            "8\n",
            "True\n"
          ]
        }
      ]
    },
    {
      "cell_type": "markdown",
      "source": [
        "## Problema 9\n",
        "\n",
        "Best time to buy and sell stock"
      ],
      "metadata": {
        "id": "LfS3j9fiGOri"
      }
    },
    {
      "cell_type": "code",
      "source": [
        "def bestBuyAndSell(prices):\n",
        "  hashMap = []\n",
        "  lowPrice = min(prices)\n",
        "  highPrice = 0\n",
        "  maxProfit = 0\n",
        "\n",
        "  for i in range(len(prices)):\n",
        "    if prices[i] == lowPrice:\n",
        "      iteracionLow = i + 1\n",
        "      highPrice = max(prices[i:])\n",
        "\n",
        "    if prices[i] == highPrice:\n",
        "      iteracionHigh = i + 1\n",
        "\n",
        "    maxProfit = highPrice - lowPrice\n",
        "  if (iteracionLow == len(prices)):\n",
        "    return f\"Max profit: {maxProfit}. No hay buen momento para comprar\"\n",
        "  else:\n",
        "    return f\"Max profit: {maxProfit}. Compra en el día {iteracionLow} y vende en el día {iteracionHigh}\"\n",
        "\n",
        "\n",
        "prices = [7,1,5,3,6,4]\n",
        "print(bestBuyAndSell(prices))"
      ],
      "metadata": {
        "colab": {
          "base_uri": "https://localhost:8080/"
        },
        "id": "9gtCCJoQ-eIV",
        "outputId": "85714b32-5e50-4bc0-daba-f5511df1d100"
      },
      "execution_count": 25,
      "outputs": [
        {
          "output_type": "stream",
          "name": "stdout",
          "text": [
            "Max profit: 5. Compra en el día 2 y vende en el día 5\n"
          ]
        }
      ]
    }
  ]
}