{
  "nbformat": 4,
  "nbformat_minor": 0,
  "metadata": {
    "colab": {
      "provenance": [],
      "collapsed_sections": [
        "Z-19qoJd0XfN",
        "SJOD7oi588Ty",
        "qIl5vysgWSYs",
        "07Oxk81togH8",
        "MJr0KDbt3VmA",
        "qrZfJJUv5Q_9",
        "SztC5_c-9vhV",
        "LfS3j9fiGOri",
        "XbcI1U5oCisZ"
      ],
      "authorship_tag": "ABX9TyPDoX3NZFsT5STx23Qe8y/I",
      "include_colab_link": true
    },
    "kernelspec": {
      "name": "python3",
      "display_name": "Python 3"
    },
    "language_info": {
      "name": "python"
    }
  },
  "cells": [
    {
      "cell_type": "markdown",
      "metadata": {
        "id": "view-in-github",
        "colab_type": "text"
      },
      "source": [
        "<a href=\"https://colab.research.google.com/github/JorgeDiego616/estructura-datos-final-Jorge_Diego_Chaparro_Nunez/blob/main/10_problemas.ipynb\" target=\"_parent\"><img src=\"https://colab.research.google.com/assets/colab-badge.svg\" alt=\"Open In Colab\"/></a>"
      ]
    },
    {
      "cell_type": "markdown",
      "source": [
        "# 10 problemas"
      ],
      "metadata": {
        "id": "eUfHicO-CLT9"
      }
    },
    {
      "cell_type": "markdown",
      "source": [
        "## Problema 1\n",
        "\n",
        "Se usara leetcode\n",
        "\n",
        "Convertir numeros romanos a enteros"
      ],
      "metadata": {
        "id": "fDLDPcMwCR_A"
      }
    },
    {
      "cell_type": "code",
      "source": [
        "def conversion(numRomanos):\n",
        "    numero = 0\n",
        "    prev_value = 0\n",
        "\n",
        "    for letra in reversed(numRomanos):  # Lee el string al reverso\n",
        "        ## Se agregan todas las posibilidades en if else\n",
        "        ## Podriamos decir que es un intento con fuerza bruta\n",
        "        if letra == 'I':\n",
        "            valor = 1\n",
        "        elif letra == 'V':\n",
        "            valor = 5\n",
        "        elif letra == 'X':\n",
        "            valor = 10\n",
        "        elif letra == 'L':\n",
        "            valor = 50\n",
        "        elif letra == 'C':\n",
        "            valor = 100\n",
        "        elif letra == 'D':\n",
        "            valor = 500\n",
        "        elif letra == 'M':\n",
        "            valor = 100\n",
        "        ## Si el valor obtenido es menor al reciente se le resta el numero actual comparado al total\n",
        "        if valor < prev_value:\n",
        "            numero -= valor\n",
        "        ## Si el valor obtenido es mayor al reciente se le suma al total\n",
        "        else:\n",
        "            numero += valor\n",
        "        prev_value = valor\n",
        "\n",
        "    return numero\n",
        "\n",
        "\n",
        "s = \"MCMXCIV\"\n",
        "print(f\"{s} = {conversion(s)}\")"
      ],
      "metadata": {
        "colab": {
          "base_uri": "https://localhost:8080/"
        },
        "id": "XrjCuUU3S1TE",
        "outputId": "a239861a-b618-4ce7-b966-9e0e9bd4c39a"
      },
      "execution_count": 15,
      "outputs": [
        {
          "output_type": "stream",
          "name": "stdout",
          "text": [
            "MCMXCIV = 394\n"
          ]
        }
      ]
    },
    {
      "cell_type": "markdown",
      "source": [
        "La complejidad Big(o) es de **O(n)** debido a que recorre todo el string una sola ves y compara usando los if else todo, pero una sola ves.\n",
        "Asi que su numero de operaciones depende del tamaño del string."
      ],
      "metadata": {
        "id": "s8iekpdJRl_G"
      }
    },
    {
      "cell_type": "code",
      "execution_count": 13,
      "metadata": {
        "colab": {
          "base_uri": "https://localhost:8080/"
        },
        "id": "JErzGAaYB6j6",
        "outputId": "f017d291-31d7-4833-eef1-1e2f6fd7bb5c"
      },
      "outputs": [
        {
          "output_type": "stream",
          "name": "stdout",
          "text": [
            "MCMXCIV = 1994\n"
          ]
        }
      ],
      "source": [
        "def conversion(numRomanos):\n",
        "    ## Se usa un diccionario para las comparaciones\n",
        "    valores = {'I': 1, 'V': 5, 'X': 10, 'L': 50, 'C': 100, 'D': 500, 'M': 1000}\n",
        "    numero = 0\n",
        "    prev_value = 0\n",
        "\n",
        "    for letra in reversed(numRomanos):  # Lee el string al reverso\n",
        "        valor = valores[letra]\n",
        "        ## Si el valor obtenido es menor al reciente se le resta el numero actual comparado al total\n",
        "        if valor < prev_value:\n",
        "            numero -= valor\n",
        "        ## Si el valor obtenido es mayor al reciente se le suma al total\n",
        "        else:\n",
        "            numero += valor\n",
        "        prev_value = valor\n",
        "\n",
        "    return numero\n",
        "\n",
        "\n",
        "s = \"MCMXCIV\"\n",
        "print(f\"{s} = {conversion(s)}\")"
      ]
    },
    {
      "cell_type": "markdown",
      "source": [
        "La complejidad Big(o) es de **O(n)** y que si tiene que recorrer todo el string uno por uno, pero este usa un diccionario en ves de muchos if else, verificando los valores con una sola variable reduciendo el numero de operaciones dentro del ciclo ademas de ser mas claro a la vista que el anterior"
      ],
      "metadata": {
        "id": "MABwLORdSyYK"
      }
    },
    {
      "cell_type": "markdown",
      "source": [
        "El mejor es el segundo codigo la mayor razon es el uso de un diccionario en ves de multiples if else aunque es verdad que es la misma complejidad Big(o)"
      ],
      "metadata": {
        "id": "ZjZkZFToXKPS"
      }
    },
    {
      "cell_type": "markdown",
      "source": [
        "## Problema 2\n",
        "\n",
        "Longitud de la ultima palabra de una frase"
      ],
      "metadata": {
        "id": "Z-19qoJd0XfN"
      }
    },
    {
      "cell_type": "code",
      "source": [
        "def lastWordlenght(frase):\n",
        "  ## Se eliminan los espacios al inicio y al final de la frase\n",
        "  frase = frase.strip()\n",
        "  lastWord = \"\"\n",
        "  finalMessage = \"\"\n",
        "\n",
        "  ## Por si la frase esta vacia regresa un mensaje de que esta vacia\n",
        "  if frase == \"\":\n",
        "      finalMessage = \"La frase esta vacia\"\n",
        "      return finalMessage\n",
        "\n",
        "  ## lee la frase al reves\n",
        "  for letra in reversed(frase):\n",
        "    ## agrega letras hasta llegar a un espacio\n",
        "    if(letra != \" \"):\n",
        "      lastWord = letra + lastWord\n",
        "    else:\n",
        "      finalMessage = f\"La última palabra {lastWord} tiene una logitud de {len(lastWord)}\"\n",
        "      break\n",
        "\n",
        "  return finalMessage\n",
        "\n",
        "frase = \"\"\n",
        "##print(frase.strip())\n",
        "print(lastWordlenght(frase))"
      ],
      "metadata": {
        "colab": {
          "base_uri": "https://localhost:8080/"
        },
        "id": "ipS7cOCE3CYT",
        "outputId": "b441fa7f-f579-4408-8e87-3394f48f664a"
      },
      "execution_count": 56,
      "outputs": [
        {
          "output_type": "stream",
          "name": "stdout",
          "text": [
            "La frase esta vacia\n"
          ]
        }
      ]
    },
    {
      "cell_type": "markdown",
      "source": [
        "La complejidad Big(o) seria de **O(n)** por recorrer de forma inversa toda la frase, aunque la recorrer una ves, lo compara usando un <frase == \"\"> que no es muy eficiente\n",
        "\n",
        "\n",
        "\n",
        "\n",
        "\n"
      ],
      "metadata": {
        "id": "585qq1f3YACw"
      }
    },
    {
      "cell_type": "code",
      "source": [
        "def lastWordLength(frase):\n",
        "    frase = frase.rstrip()  # Quitamos espacios finales solo si los hay\n",
        "    if not frase:  # Si la frase está vacía después de eliminar espacios regresamos qeu esta vacía\n",
        "        return \"La frase esta vacia\"\n",
        "\n",
        "    ## Divide la frase en palabras\n",
        "    lastWord = frase.split()[-1]  # Obtiene la última palabra dividiendo la cadena\n",
        "    return f\"La última palabra {lastWord} tiene una longitud de {len(lastWord)}\"\n",
        "\n",
        "frase = \"Roy el salvaje\"\n",
        "print(lastWordLength(frase))"
      ],
      "metadata": {
        "colab": {
          "base_uri": "https://localhost:8080/"
        },
        "id": "JFFwQeXH8kMR",
        "outputId": "c1fc507a-ebf7-492d-90d8-1db079eebefb"
      },
      "execution_count": 44,
      "outputs": [
        {
          "output_type": "stream",
          "name": "stdout",
          "text": [
            "La última palabra salvaje tiene una longitud de 7\n"
          ]
        }
      ]
    },
    {
      "cell_type": "markdown",
      "source": [
        "La complejidad Big(o) seria de O(n) por recorrer toda la frase, pero hace menos pasos o calculos que el anterior, pero con el uso de funciones que facilitan el trabajo, como el <plit()> que divide en palabras la frase, auque no usa como tal un ciclo, si compara toda las palabras."
      ],
      "metadata": {
        "id": "ypfMnsRCY65d"
      }
    },
    {
      "cell_type": "markdown",
      "source": [
        "El mejor seria el segundo, no tiene un ciclo for y usa diferentes funciones para reducir el numero de operaciones que hace al final, claramente es mas claro y simple a la vista como programador y mas flexible ya que deja espacio a mas posibilidades para hacer mas cosas."
      ],
      "metadata": {
        "id": "88YoJerWZutc"
      }
    },
    {
      "cell_type": "markdown",
      "source": [
        "## Problema 3\n",
        "\n",
        "Plus one, de una lista de numeros que los junte y les sume un uno al total"
      ],
      "metadata": {
        "id": "SJOD7oi588Ty"
      }
    },
    {
      "cell_type": "code",
      "source": [
        "def plusOne(lista):\n",
        "  ## Numero base para hacer las sumas y llegar al numero total de la lista sin sumarle 1\n",
        "  numeroB = \"\"\n",
        "  numeroFinal = 0\n",
        "\n",
        "  ## Leemos la lista al reves\n",
        "  for num in reversed(lista):\n",
        "    ## Sacamos el numero en str para poder juntarlo sin que se sume\n",
        "    numeroB = str(num) + numeroB\n",
        "\n",
        "  ## Lo pasamos a entero y le sumamos 1\n",
        "  numeroFinal = int(numeroB) + 1\n",
        "  ## Creamos una lista para irle agregando el nuevo numero\n",
        "  lista = []\n",
        "  for numero in str(numeroFinal):\n",
        "    ## Le agregaos cada numero a la lista\n",
        "    lista.append(int(numero))\n",
        "  return lista\n",
        "\n",
        "lista = [1, 2, 9]\n",
        "print(f\"El numero mas uno es {plusOne(lista)}\")"
      ],
      "metadata": {
        "colab": {
          "base_uri": "https://localhost:8080/"
        },
        "id": "vGwLsEXKHU2q",
        "outputId": "5e2a8e66-7c96-47a2-c351-6a6a85caec21"
      },
      "execution_count": 90,
      "outputs": [
        {
          "output_type": "stream",
          "name": "stdout",
          "text": [
            "El numero mas uno es [1, 3, 0]\n"
          ]
        }
      ]
    },
    {
      "cell_type": "markdown",
      "source": [
        "La complejidad Big(o) seria O(n) es verdad que recorremos los valores 2 veces, pero se hacen por separado, me refiero que los ciclos no estan dentro uno del otro, al ser dos bucles por separado seria O(2n) pero se descartan multiplicativas y seria O(n)"
      ],
      "metadata": {
        "id": "z-hqg2ifakxj"
      }
    },
    {
      "cell_type": "code",
      "source": [
        "def plusOne(lista):\n",
        "    ## El map(str, lista) los separa en strings: \"1\", \"2\", \"9\"\n",
        "    ## El \"\".join Lo junta: \"129\"\n",
        "    numeroFinal = int(\"\".join(map(str, lista))) + 1  # Convertimos la lista a número y sumamos 1\n",
        "    ## Lo pone en string y luego lo separa para la lista\n",
        "    return list(map(int, str(numeroFinal)))  # Convertimos el número resultante de nuevo a lista\n",
        "\n",
        "lista = [1, 2, 9]\n",
        "print(f\"El número más uno es {plusOne(lista)}\")"
      ],
      "metadata": {
        "colab": {
          "base_uri": "https://localhost:8080/"
        },
        "id": "Yl4zWb9oLUO9",
        "outputId": "7f6a4b64-0199-441e-967b-377af90e752b"
      },
      "execution_count": 16,
      "outputs": [
        {
          "output_type": "stream",
          "name": "stdout",
          "text": [
            "El número más uno es [1, 3, 0]\n"
          ]
        }
      ]
    },
    {
      "cell_type": "markdown",
      "source": [
        "La complejidad Big(o) seria O(n) ya igual recorre todos los valores, pero usa diferentes funiones para facilitarlo y lo hace mas flexible, pero al usar el <map> te evitas iteraciones innecesarias."
      ],
      "metadata": {
        "id": "gSsswrH4brYI"
      }
    },
    {
      "cell_type": "markdown",
      "source": [
        "Si comparamos los dos codigos el mejor es el segundo ya que en cuanto a pasos se ahorra mas pasos, aunque en la suma sean iguales en cuanto a el numero de procesamientos es menor que el primero."
      ],
      "metadata": {
        "id": "LKkZL_NOcXo6"
      }
    },
    {
      "cell_type": "markdown",
      "source": [
        "## Problema 4\n",
        "\n",
        "Add binary, Sume dos codigos binarios."
      ],
      "metadata": {
        "id": "qIl5vysgWSYs"
      }
    },
    {
      "cell_type": "code",
      "source": [
        "def addBinary(a,b):\n",
        "  ## Las sumas son los valores de los str a y b\n",
        "  sum_A = 0\n",
        "  sum_B = 0\n",
        "  ## Los zeros van llevando el conteo en cuanto a los octetos, ya que cada octeto tiene su valor\n",
        "  zero = 0\n",
        "  zero2 = 0\n",
        "\n",
        "  ## Leemos a alreverso\n",
        "  for letra in reversed(a):\n",
        "    ## Vamos si hay un 1 al principio y le ponemos el valor de 1 o no\n",
        "    if letra == \"1\" and sum_A == 0 and zero == 0:\n",
        "      sum_A = sum_A + 1\n",
        "    ## ya que pasamos la primera iteracion en reversa vamos viendo cuales otras tiene 1\n",
        "    elif letra == \"1\":\n",
        "      ## El zero sabe que valor del octeto fue previo al que estan y lo agrega al valor de a pero multiplicado por 2 para que sea el valor actual\n",
        "      sum_A = sum_A + (zero * 2)\n",
        "\n",
        "    ## Para que el zero lleve el recuento, se empieza en 1\n",
        "    if (zero == 0):\n",
        "      zero = 1\n",
        "    ## Ya que ya empezo en 1 solo se le va multiplicando por 2\n",
        "    else:\n",
        "      zero = zero * 2\n",
        "\n",
        "\n",
        "  ## Leemos a alreverso\n",
        "  for letra in reversed(b):\n",
        "    ## Vamos si hay un 1 al principio y le ponemos el valor de 1 o no\n",
        "    if letra == \"1\" and sum_B == 0:\n",
        "      sum_B = sum_B + 1\n",
        "    ## ya que pasamos la primera iteracion en reversa vamos viendo cuales otras tiene 1\n",
        "    elif letra == \"1\":\n",
        "      ## El zero sabe que valor del octeto fue previo al que estan y lo agrega al valor de b pero multiplicado por 2 para que sea el valor actual\n",
        "      sum_B = sum_B + (zero2 * 2)\n",
        "\n",
        "     ## Para que el zero lleve el recuento, se empieza en 1\n",
        "    if (zero2 == 0):\n",
        "      zero2 = 1\n",
        "    ## Ya que ya empezo en 1 solo se le va multiplicando por 2\n",
        "    else:\n",
        "      zero2 = zero2 * 2\n",
        "\n",
        "  ## El bin() lo convierte a binario con un ob al principio: \"ob10100\" para quitar el ob\n",
        "  ## se pone el 2: para mostrar el contenido a partir del 2 en adelante\n",
        "  return bin(sum_A + sum_B)[2:]\n",
        "\n",
        "a = \"11010\" # 26\n",
        "b = \"1001\" # 9\n",
        "# 35 = 100011\n",
        "print(f\"{a} + {b} = {addBinary(a,b)}\")"
      ],
      "metadata": {
        "colab": {
          "base_uri": "https://localhost:8080/"
        },
        "id": "99WtSUlLX-NI",
        "outputId": "fc37e835-897a-41f4-a1e5-cb52347424cd"
      },
      "execution_count": 18,
      "outputs": [
        {
          "output_type": "stream",
          "name": "stdout",
          "text": [
            "11010 + 1001 = 100011\n"
          ]
        }
      ]
    },
    {
      "cell_type": "markdown",
      "source": [
        "La complejidad Big(o) seria O(n) tiene dos bucles pero no estan dentro uno del otro y lo vuelve O(n), calculo manualmente los valores lo que es mas lento, y es verdad que usa <bin()> pero ya el final y es muy largo y complejo con muchos calculos."
      ],
      "metadata": {
        "id": "dMedR2PmdQZ0"
      }
    },
    {
      "cell_type": "code",
      "source": [
        "def addBinary(a,b):\n",
        "  return bin(int(a,2) + int(b,2))[2:]\n",
        "\n",
        "a = \"1011\" # 11\n",
        "b = \"1001\" # 9\n",
        "# 20 = 10100\n",
        "print(f\"{a} + {b} = {addBinary(a,b)}\")\n",
        "\n",
        "\n",
        "def addBinary(a,b):\n",
        "  ## El int(a,2) Es para convertir el string en una cadena binaria con base numerica 2\n",
        "  ## Se puede usar como base el 2, 8, 10, 16 y 36\n",
        "  numeroA = int(a,2)\n",
        "  numeroB = int(b,2)\n",
        "  numeroFinal = numeroA + numeroB\n",
        "  ## El bin() lo convierte a binario con un ob al principio: \"ob10100\" para quitar el ob\n",
        "  ## se pone el 2: para mostrar el contenido a partir del 2 en adelante\n",
        "  return bin(numeroFinal)[2:]\n",
        "\n",
        "a = \"1011\" # 11\n",
        "b = \"1001\" # 9\n",
        "#20 = 10100\n",
        "print(f\"{a} + {b} = {addBinary(a,b)}\")"
      ],
      "metadata": {
        "colab": {
          "base_uri": "https://localhost:8080/"
        },
        "id": "3QLD6FjcXFhO",
        "outputId": "3887c4f0-fa24-436e-82e9-558915614bf8"
      },
      "execution_count": 13,
      "outputs": [
        {
          "output_type": "stream",
          "name": "stdout",
          "text": [
            "1011 + 1001 = 10100\n",
            "1011 + 1001 = 10100\n"
          ]
        }
      ]
    },
    {
      "cell_type": "markdown",
      "source": [
        "La complejidad Big(o) seria O(n) poer la parte de la suma que recorre todo el codigo, pero es mas eficiente por usar <int(a, 2)> que lo convierte a un entero de una en lugar de muchos calculos, y los combierte tambien en binario de una con la funcion ya mencionada y es claramente mas corto y claro."
      ],
      "metadata": {
        "id": "kHRbMP2Ofa2s"
      }
    },
    {
      "cell_type": "markdown",
      "source": [
        "El mejor seria el segundo ya que la suma lo hace de una en ves de por muchos pasos y calculos complejos, lo mismo al convertirlos en enteros y a binario de vuelta y es mas corto, aunque sea O(n) si hace mucho menos operacines y calculos que el primero."
      ],
      "metadata": {
        "id": "V4ElflaugKV7"
      }
    },
    {
      "cell_type": "markdown",
      "source": [
        "## Problema 5\n",
        "\n",
        "Search insert position: De un arreglo buscar un numero en especifico o donde podria estar"
      ],
      "metadata": {
        "id": "07Oxk81togH8"
      }
    },
    {
      "cell_type": "code",
      "source": [
        "def searchInsertPosition(array, target):\n",
        "  ## Primero va a haber si esta el valor en la lista\n",
        "  if target in array:\n",
        "    ## Si si esta se saca su index recorriendo los indices de la lista\n",
        "    for index in range(len(array)):\n",
        "      numero = array[index]\n",
        "      ## se compara cada valor de los indices\n",
        "      if numero == target:\n",
        "        return f\"El numero {target} esta en el indice {index}\"\n",
        "  else:\n",
        "    ## Si no esta entonces se hace un ciclo recorriendo los valores de la lista\n",
        "    for num in array:\n",
        "      ## si el numero registrado es mayor que el target\n",
        "      if num > target:\n",
        "        ## Entonces ese indice se pasa a ser el valor del array\n",
        "        for index in range(len(array)):\n",
        "          numero = array[index]\n",
        "      ## se compara cada valor de los indices\n",
        "          if numero == num:\n",
        "            return f\"El numero {target} posiblemente esta en el indice {index} o entre el indice {index - 1} y el indice {index} actuales\"\n",
        "\n",
        "        ##return array.index(num)\n",
        "    return f\"El numero buscado posiblemente este del indice {len(array)} en adelante\"\n",
        "\n",
        "array = [1, 3, 6, 9, 10, 15]\n",
        "target = 11\n",
        "print(searchInsertPosition(array, target))"
      ],
      "metadata": {
        "colab": {
          "base_uri": "https://localhost:8080/"
        },
        "id": "dNihWWuo-wTF",
        "outputId": "67064662-0b93-42e0-af85-37af6b74ec1f"
      },
      "execution_count": 60,
      "outputs": [
        {
          "output_type": "stream",
          "name": "stdout",
          "text": [
            "El numero 11 posiblemente esta en el indice 5 o entre el indice 4 y el indice 5 actuales\n"
          ]
        }
      ]
    },
    {
      "cell_type": "markdown",
      "source": [
        "La complejidad Big(o) seria O(n) ya que usa un for para recorrer todo manualmente y encontrar el indice, para las posiciones recorre la lista con 2 for dentro, pero ambas comparaciones no estan anidadas entre si."
      ],
      "metadata": {
        "id": "n3dPGaBLhHTR"
      }
    },
    {
      "cell_type": "code",
      "source": [
        "def searchInsertPosition(array, target):\n",
        "  ## Se busca si el numero a buscar esta en la lista\n",
        "  if target in array:\n",
        "    ## Si si esta se regresa su indice\n",
        "    return f\"El numero {target} esta en el indice {array.index(target)}\"\n",
        "  else:\n",
        "    ## se recorren los valores de la lista\n",
        "    for num in array:\n",
        "      ## Se compara cual es mayor\n",
        "      if num > target:\n",
        "        ## Se saca el indice del mayor\n",
        "        return f\"El numero {target} posiblemente esta en el indice {array.index(num)} o entre el indice {array.index(num) - 1} y el indice {array.index(num)} actuales\"\n",
        "    return f\"El numero buscado posiblemente este del indice {len(array)} en adelante\"\n",
        "\n",
        "array = [1, 3, 6, 9, 10]\n",
        "target = 12\n",
        "print(searchInsertPosition(array, target))"
      ],
      "metadata": {
        "colab": {
          "base_uri": "https://localhost:8080/"
        },
        "id": "LD_BVQerqh9x",
        "outputId": "65b02960-bc14-42eb-a2f4-ddf68dd29498"
      },
      "execution_count": 63,
      "outputs": [
        {
          "output_type": "stream",
          "name": "stdout",
          "text": [
            "El numero buscado posiblemente este del indice 5 en adelante\n"
          ]
        }
      ]
    },
    {
      "cell_type": "markdown",
      "source": [
        "La complejidad Big(o) seria O(n) usa <array.index> que recorre todo el array haciendolo O(n), pero tiene un solo for, y hace menos operaciones."
      ],
      "metadata": {
        "id": "-SlTfzsmihyT"
      }
    },
    {
      "cell_type": "markdown",
      "source": [
        "El mejor seria el segundo ya que hace menores operaciones que el primero y auque la mayor razon de la complejidad O(n) es por el <array.index>."
      ],
      "metadata": {
        "id": "O7q7Q4GNjEZK"
      }
    },
    {
      "cell_type": "markdown",
      "source": [
        "## Problema 6\n",
        "\n",
        "Remove duplicates from sorted list"
      ],
      "metadata": {
        "id": "MJr0KDbt3VmA"
      }
    },
    {
      "cell_type": "code",
      "source": [
        "def removeDuplicate(lista):\n",
        "  ## Lista para los duplicados\n",
        "  listaFinal = []\n",
        "  ## lee los valores de toda la lista y los lleva en num\n",
        "  for num in lista:\n",
        "    ## Si el num o el dato a comparar de la lista no esta en la nueva lista, se agrega\n",
        "    if num not in listaFinal:\n",
        "      ## se agregan los valores que no estan en la nueva lista a la misma\n",
        "      listaFinal.append(num)\n",
        "  return listaFinal\n",
        "\n",
        "lista = [1, 1, 2, 3, 3]\n",
        "print(removeDuplicate(lista))"
      ],
      "metadata": {
        "colab": {
          "base_uri": "https://localhost:8080/"
        },
        "id": "gKgjlovC33ov",
        "outputId": "93bd8fae-d250-4f31-ce31-f66079c32ada"
      },
      "execution_count": 2,
      "outputs": [
        {
          "output_type": "stream",
          "name": "stdout",
          "text": [
            "[1, 2, 3]\n"
          ]
        }
      ]
    },
    {
      "cell_type": "markdown",
      "source": [
        "La complejidad Big(o) seria O(n^2) ya que tiene un for que recorre toda la lista y con el if dentro del for se vuelve un ciclo anidado por que ese if tiene que recorrer todo para verificar si el dato no esta."
      ],
      "metadata": {
        "id": "iJCxXq14juW2"
      }
    },
    {
      "cell_type": "code",
      "source": [
        "def removeDuplicate(lista):\n",
        "    ## Al combertirlo en un conjunto con el <set> se eliminan los duplicados\n",
        "    return list(set(lista))  # Convertimos la lista a un conjunto y de nuevo a lista\n",
        "\n",
        "lista = [1, 1, 2, 3, 3]\n",
        "print(removeDuplicate(lista))"
      ],
      "metadata": {
        "colab": {
          "base_uri": "https://localhost:8080/"
        },
        "id": "vJBoNVHT4-Cf",
        "outputId": "2b69b56e-1695-486f-b0aa-252b9da81a2c"
      },
      "execution_count": 3,
      "outputs": [
        {
          "output_type": "stream",
          "name": "stdout",
          "text": [
            "[1, 2, 3]\n"
          ]
        }
      ]
    },
    {
      "cell_type": "markdown",
      "source": [
        "La complejidad Big(o) seria O(n) ya que el <set> elimina todo los duplicados pero recorre todo el arreglo y lo regresa en forma de lista."
      ],
      "metadata": {
        "id": "xsL-HT_Gksjd"
      }
    },
    {
      "cell_type": "markdown",
      "source": [
        "El mejor codigo seria el segundo ya que no hace dos recorridos anidados como el primero y lo hace de una."
      ],
      "metadata": {
        "id": "vDbSrUCZlRm-"
      }
    },
    {
      "cell_type": "markdown",
      "source": [
        "## Problema 7\n",
        "\n",
        "Merge sorted array"
      ],
      "metadata": {
        "id": "qrZfJJUv5Q_9"
      }
    },
    {
      "cell_type": "code",
      "source": [
        "def mergeSortedArray(lista1, lista2,m,n):\n",
        "  ## Juntamos las listas con sus elementos validos\n",
        "  listtota = lista1[:m] + lista2[:n]\n",
        "\n",
        "  ## Se ordena la lista\n",
        "  return sorted(listtota)\n",
        "\n",
        "lista1 = [1, 2, 3, 9, 0, 0]\n",
        "m = 4\n",
        "lista2 = [2, 5, 6]\n",
        "n = 3\n",
        "print(mergeSortedArray(lista1, lista2, m, n))"
      ],
      "metadata": {
        "colab": {
          "base_uri": "https://localhost:8080/"
        },
        "id": "zyLG9P1F6B3s",
        "outputId": "09725a4b-43e8-462c-ee8a-6241b04f5078"
      },
      "execution_count": 36,
      "outputs": [
        {
          "output_type": "stream",
          "name": "stdout",
          "text": [
            "[1, 2, 2, 3, 5, 6, 9]\n"
          ]
        }
      ]
    },
    {
      "cell_type": "markdown",
      "source": [
        "Su complejidad de Big(o) seria O(n log n) ya que no usa toda la lista solo lo esencial y los suma para una sola lista y ya todo junto lo ordena son la funcion <sorted()>."
      ],
      "metadata": {
        "id": "g10jSAhDl_Oc"
      }
    },
    {
      "cell_type": "code",
      "source": [
        "def mergeSortedArray(lista1, lista2, m, n):\n",
        "    # Tomamos solo los elementos válidos de lista1 y lista2\n",
        "    lista1 = lista1[:m]\n",
        "    lista2 = lista2[:n]\n",
        "    # Fusionamos ambas listas y las ordenamos\n",
        "    return sorted(lista1 + lista2)\n",
        "\n",
        "lista1 = [1, 2, 3, 0, 0, 0]\n",
        "m = 3\n",
        "lista2 = [2, 5, 6]\n",
        "n = 3\n",
        "\n",
        "print(mergeSortedArray(lista1, lista2, m, n))"
      ],
      "metadata": {
        "colab": {
          "base_uri": "https://localhost:8080/"
        },
        "id": "eNoqOjrAl9tL",
        "outputId": "e66f2690-bc1d-4cf7-e209-7b64f9209440"
      },
      "execution_count": 34,
      "outputs": [
        {
          "output_type": "stream",
          "name": "stdout",
          "text": [
            "[1, 2, 2, 3, 5, 6]\n"
          ]
        }
      ]
    },
    {
      "cell_type": "markdown",
      "source": [
        "Su complejidad de Big(o) seria O(n log n), es muy similar al primero, solo que no los junta hasta la hora de regresar el valor y ordenarlos por <sorted()>"
      ],
      "metadata": {
        "id": "nDVlus6smlNe"
      }
    },
    {
      "cell_type": "markdown",
      "source": [
        "En cuanto cual es el mejor, ambos son iguales, ya seria por la preferencia de cada uno como lo prefieran"
      ],
      "metadata": {
        "id": "6q_XcQbpm3N5"
      }
    },
    {
      "cell_type": "markdown",
      "source": [
        "## Problema 8\n",
        "\n",
        "Same tree, verifica si 2 arboles son identicos"
      ],
      "metadata": {
        "id": "SztC5_c-9vhV"
      }
    },
    {
      "cell_type": "code",
      "source": [
        "def sameTree(treeOne, treeTwo):\n",
        "  ## Sacamos la longitud de los elementos de todos los arboles\n",
        "  lenTreeOne = len(treeOne)\n",
        "  lenTreeTwo = len(treeTwo)\n",
        "  ## Si no son iguales las longitudes no son iguales\n",
        "  if lenTreeOne != lenTreeTwo:\n",
        "    return False\n",
        "  else:\n",
        "    ## Dividimos el primer arbol a la mitad\n",
        "    for num in range(lenTreeOne // 2):\n",
        "      ## Comparamos la primera mitad de los 2 arboles\n",
        "      if treeOne[num] != treeTwo[num]:\n",
        "        return False\n",
        "    ## Empieza en el ultimo numero del arbol y le quitamos uno mas a la mitad para que no se detenga en la mitad y compare hasta la mitad\n",
        "    ## Compara empezando del final y continua hasta llegar una iteracion antes de la mitad\n",
        "    for num in range(lenTreeOne-1, (lenTreeOne // 2), -1):\n",
        "      if treeOne[num] != treeTwo[num]:\n",
        "        return False\n",
        "    return True\n",
        "\n",
        "  #if treeOne == treeTwo:\n",
        "    #return True\n",
        "  #else:\n",
        "    #return False\n",
        "\n",
        "treeOne = [3, 4, 6, 8, 3, 9, 2, 9]\n",
        "treeTwo = [3, 4, 6, 8, 3, 9, 2, 9]\n",
        "print(sameTree(treeOne, treeTwo))"
      ],
      "metadata": {
        "colab": {
          "base_uri": "https://localhost:8080/"
        },
        "id": "CuM8TbSU-DQd",
        "outputId": "001448b8-89c4-4a00-d519-42945d14025b"
      },
      "execution_count": 42,
      "outputs": [
        {
          "output_type": "stream",
          "name": "stdout",
          "text": [
            "True\n"
          ]
        }
      ]
    },
    {
      "cell_type": "markdown",
      "source": [
        "Complejidad de Big(o) seria O(n) por recorrer una sola vez todos los elementos, y es verdad que tiene dos for, pero por separado no anidados por eso sigue siendo O(n)."
      ],
      "metadata": {
        "id": "IXoB1j-dn5SQ"
      }
    },
    {
      "cell_type": "code",
      "source": [
        "def sameTree(treeOne, treeTwo):\n",
        "    if len(treeOne) != len(treeTwo):\n",
        "        return False  # Si los tamaños son diferentes, no son iguales\n",
        "\n",
        "    mitad = len(treeOne) // 2  # Calculamos la mitad\n",
        "\n",
        "    # Comparar ambas mitades al mismo tiempo\n",
        "    for i in range(mitad):\n",
        "\n",
        "      ## Entre el mismo ciclo se revisan del comienzo a la mitad y el final a la mitad\n",
        "      if treeOne[i] != treeTwo[i] or treeOne[-(i + 1)] != treeTwo[-(i + 1)]:\n",
        "          return False  # Retorna False si hay alguna diferencia\n",
        "\n",
        "    return True  # Si todo coincide, retorna True\n",
        "\n",
        "treeOne = [3, 4, 6, 8, 3, 9, 2, 9]\n",
        "treeTwo = [3, 4, 6, 8, 3, 9, 2, 9]\n",
        "\n",
        "print(sameTree(treeOne, treeTwo))"
      ],
      "metadata": {
        "colab": {
          "base_uri": "https://localhost:8080/"
        },
        "id": "QKi95NI4GFDb",
        "outputId": "6fcd9af2-8c67-48d8-b801-7cdfab7049bd"
      },
      "execution_count": 91,
      "outputs": [
        {
          "output_type": "stream",
          "name": "stdout",
          "text": [
            "True\n"
          ]
        }
      ]
    },
    {
      "cell_type": "markdown",
      "source": [
        "Complejidad de Big(o) seria O(n) usa la misma logica solo que en una sola linea de codigo para las comparaciones, pero recorre todo con un solo for y usando menos operaciones que el anterior codigo."
      ],
      "metadata": {
        "id": "CQTD7O5VpbKS"
      }
    },
    {
      "cell_type": "markdown",
      "source": [
        "Realmente es mejor el segundo por un mejor ahorro de recursos, ademas de ser mucho mas limpio y claro que el anterior, y solo usar un solo for para toda las comparaciones."
      ],
      "metadata": {
        "id": "Beo922zrqdQ0"
      }
    },
    {
      "cell_type": "markdown",
      "source": [
        "## Problema 9\n",
        "\n",
        "Best time to buy and sell stock"
      ],
      "metadata": {
        "id": "LfS3j9fiGOri"
      }
    },
    {
      "cell_type": "code",
      "source": [
        "def bestBuyAndSell(prices):\n",
        "  hashMap = []\n",
        "  ## Obtengo el menor valor de precios\n",
        "  lowPrice = min(prices)\n",
        "  highPrice = 0\n",
        "  maxProfit = 0\n",
        "  ## Si la lista esta vacía\n",
        "  if not prices:\n",
        "    return \"No hay precios disponibles\"\n",
        "\n",
        "  ## Buscamos el valor menor para sacar su numero de iteracion\n",
        "  for i in range(len(prices)):\n",
        "    if prices[i] == lowPrice:\n",
        "      iteracionLow = i + 1\n",
        "      ## Al encontrar su numero de iteracion se busca el mayor pero empezando desde la iteracion del menor\n",
        "      highPrice = max(prices[i:])\n",
        "\n",
        "    ## Se encuentra la iteracion del mayor\n",
        "    if prices[i] == highPrice:\n",
        "      iteracionHigh = i + 1\n",
        "\n",
        "    maxProfit = highPrice - lowPrice\n",
        "\n",
        "  ## Si la ultima iteracion es el minimo entonces no hay buen día para comprar y no se podra vender\n",
        "  if (iteracionLow == len(prices)):\n",
        "    return f\"Max profit: {maxProfit}. No hay buen momento para comprar\"\n",
        "  else:\n",
        "    return f\"Max profit: {maxProfit}. Compra en el día {iteracionLow} y vende en el día {iteracionHigh}\"\n",
        "\n",
        "\n",
        "prices = [7,1,5,3,6,4]\n",
        "print(bestBuyAndSell(prices))"
      ],
      "metadata": {
        "colab": {
          "base_uri": "https://localhost:8080/"
        },
        "id": "9gtCCJoQ-eIV",
        "outputId": "626b8a5c-dae8-46a0-89a1-c6813ff2c7cc"
      },
      "execution_count": 39,
      "outputs": [
        {
          "output_type": "stream",
          "name": "stdout",
          "text": [
            "Max profit: 5. Compra en el día 2 y vende en el día 5\n"
          ]
        }
      ]
    },
    {
      "cell_type": "code",
      "source": [
        "def bestBuyAndSell(prices):\n",
        "    if not prices:  # Si la lista está vacía, no hay ganancia posible\n",
        "        return \"No hay precios disponibles\"\n",
        "\n",
        "    lowPrice = prices[0]  # Inicializamos el precio mínimo como el primero\n",
        "    maxProfit = 0  # La máxima ganancia\n",
        "    iteracionLow = 1\n",
        "    iteracionHigh = 1\n",
        "\n",
        "    for i in range(1, len(prices)):  # Recorremos desde el segundo día en adelante\n",
        "        ## Si el precio de ese día es menor al precio menor o a al primer valor\n",
        "        if prices[i] < lowPrice:\n",
        "            ## El precio menor es ahora el precio de ese día\n",
        "            lowPrice = prices[i]\n",
        "            iteracionLow = i + 1  # Guardamos el día de compra\n",
        "\n",
        "        ## Le damos valores al max profit para obtener el maximo valor\n",
        "        potentialProfit = prices[i] - lowPrice\n",
        "        ## Buscamos cuando el max profit obtiene el mayor valor\n",
        "        if potentialProfit > maxProfit:\n",
        "            ## Vamos guardando los valores hasta llegar el mas grande y deja de operar este if\n",
        "            maxProfit = potentialProfit\n",
        "            iteracionHigh = i + 1  # Guardamos el día de venta\n",
        "\n",
        "    if maxProfit == 0:\n",
        "        return f\"Max profit: {maxProfit}. No hay buen momento para comprar\"\n",
        "    else:\n",
        "        return f\"Max profit: {maxProfit}. Compra en el día {iteracionLow} y vende en el día {iteracionHigh}\"\n",
        "\n",
        "prices = [7, 1, 5, 3, 6, 4]\n",
        "print(bestBuyAndSell(prices))"
      ],
      "metadata": {
        "colab": {
          "base_uri": "https://localhost:8080/"
        },
        "id": "W_msUxP9wB4N",
        "outputId": "1ee95bd7-7a68-4f9f-fe4d-634649a535e9"
      },
      "execution_count": 37,
      "outputs": [
        {
          "output_type": "stream",
          "name": "stdout",
          "text": [
            "Max profit: 5. Compra en el día 2 y vende en el día 5\n"
          ]
        }
      ]
    },
    {
      "cell_type": "markdown",
      "source": [
        "## Problema 10\n",
        "\n",
        "Find the index of the first occurrence in a string: Dada una frase o palabra buscar entre que indices estan las palabras deseadas"
      ],
      "metadata": {
        "id": "XbcI1U5oCisZ"
      }
    },
    {
      "cell_type": "code",
      "source": [
        "def findIndex(frase, palabra):\n",
        "  index = 0\n",
        "  palabrafinal = \"\"\n",
        "\n",
        "  ## Ve si en la palabra a buscar esta en la frase\n",
        "  if palabra in frase:\n",
        "    ## Agregamos la palabra que buscas al la nueva variable\n",
        "      palabrafinal = palabra + palabrafinal\n",
        "\n",
        "  else:\n",
        "    ## Si no esta tal palabra se regresa -1\n",
        "    return -1\n",
        "  ## Se hace un ciclo for de 0 a la longitud de la frase para los indices\n",
        "  for indice in range(len(frase)):\n",
        "    ## Si el valor de la frase es igual al valor de la palabra buscada\n",
        "    if frase[indice] == palabrafinal[0]:\n",
        "      ## Se encuentra el indice de comienzo\n",
        "      index = indice\n",
        "      return f\"La palabra '{palabra}' esta en entre el indice {index} y el indice {index + (len(palabrafinal)-1)}\"\n",
        "\n",
        "frase = \"Promo de Sonic\"\n",
        "palabra = \"ma\"\n",
        "print(findIndex(frase, palabra))"
      ],
      "metadata": {
        "colab": {
          "base_uri": "https://localhost:8080/"
        },
        "id": "LuCPPrezHpEN",
        "outputId": "aafc2200-7a4e-4733-df8a-4d5fd2b85518"
      },
      "execution_count": 83,
      "outputs": [
        {
          "output_type": "stream",
          "name": "stdout",
          "text": [
            "-1\n"
          ]
        }
      ]
    },
    {
      "cell_type": "code",
      "source": [
        "def findIndex(frase, palabra):\n",
        "    index = frase.find(palabra)  # Usamos .find() para obtener el índice de inicio\n",
        "\n",
        "    ## Si el .find() no encuentra la palabra regresa -1\n",
        "    if index == -1:\n",
        "        return -1\n",
        "\n",
        "    return f\"La palabra '{palabra}' está entre el índice {index} y el índice {index + (len(palabra) - 1)}\"\n",
        "\n",
        "frase = \"Promo de Sonic\"\n",
        "palabra = \"nic\"\n",
        "print(findIndex(frase, palabra))"
      ],
      "metadata": {
        "colab": {
          "base_uri": "https://localhost:8080/"
        },
        "id": "lpg_vckLPfig",
        "outputId": "a00e999f-a0a4-45db-97bc-3c640fb7812e"
      },
      "execution_count": 88,
      "outputs": [
        {
          "output_type": "stream",
          "name": "stdout",
          "text": [
            "La palabra 'nic' está entre el índice 11 y el índice 13\n"
          ]
        }
      ]
    }
  ]
}